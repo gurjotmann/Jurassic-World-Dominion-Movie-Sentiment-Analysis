{
 "cells": [
  {
   "cell_type": "markdown",
   "id": "39af28fc",
   "metadata": {},
   "source": [
    "<div style=\"text-align: center; margin-left: px;\">\n",
    "    <h1 style=\"color: orange;\">Jurassic World Reviews Sentiment Analysis</h1>\n",
    "</div>"
   ]
  },
  {
   "cell_type": "markdown",
   "id": "aa27d4af",
   "metadata": {},
   "source": [
    "<div style=\"text-align: center; margin-left: px;\">\n",
    "    <h1 style=\"color: teal;\">Overview</h1>\n",
    "</div>"
   ]
  },
  {
   "cell_type": "markdown",
   "id": "0bc00196",
   "metadata": {},
   "source": [
    "Did Sentiment Analysis of Jurassic World Dominion which was recently released on netflix and orignal release year is 2022.\n",
    "Scraped the reviews by using libraries and plugins. \n",
    "\n",
    "Tools Used = \n",
    "1. for scraping data              - Used selenium librery to scrap imbd movie reviews.\n",
    "                     - Used Plugin for Rotten Tomatoes movie review data.\n",
    "             \n",
    "2. Preprocessing     - Used nltk library for preprocessing the text of the reviews\n",
    "             \n",
    "3. Sentiment Analysis- Used VADER (Valence Aware Dictionary and Entiment Reasoner) for sentiment analysis."
   ]
  },
  {
   "cell_type": "markdown",
   "id": "f63cbdc7",
   "metadata": {},
   "source": [
    "<div style=\"text-align: center; margin-left: px;\">\n",
    "    <h1 style=\"color: red;\">Importing Libraries</h1>\n",
    "</div>"
   ]
  },
  {
   "cell_type": "code",
   "execution_count": 44,
   "id": "88eb1a99",
   "metadata": {},
   "outputs": [],
   "source": [
    "import numpy as np\n",
    "import pandas as pd\n",
    "import selenium\n",
    "from scrapy.selector import Selector\n",
    "from selenium import webdriver \n",
    "from selenium.webdriver.common.by import By\n",
    "from selenium.webdriver.common.keys import Keys\n",
    "import time\n",
    "from tqdm import tqdm\n",
    "import warnings\n",
    "warnings.filterwarnings(\"ignore\")\n",
    "from selenium.webdriver.chrome.service import Service\n",
    "import re\n",
    "import nltk                                \n",
    "from nltk.corpus import twitter_samples    \n",
    "from nltk.corpus import stopwords\n",
    "from nltk.corpus import opinion_lexicon\n",
    "from nltk.stem import PorterStemmer        \n",
    "from nltk.tokenize import TweetTokenizer\n",
    "from nltk.tokenize import word_tokenize\n",
    "from nltk.stem import PorterStemmer   \n",
    "import string\n",
    "import emoji\n",
    "import demoji\n",
    "from vaderSentiment.vaderSentiment import SentimentIntensityAnalyzer\n",
    "import matplotlib.pyplot as plt\n",
    "import seaborn as sns"
   ]
  },
  {
   "cell_type": "markdown",
   "id": "054f1aaf",
   "metadata": {},
   "source": [
    "<div style=\"text-align: center; margin-left: px;\">\n",
    "    <h1 style=\"color: red\">Functions Used in notebook</h1>\n",
    "</div>"
   ]
  },
  {
   "cell_type": "code",
   "execution_count": 2,
   "id": "0e6717b8",
   "metadata": {},
   "outputs": [
    {
     "name": "stderr",
     "output_type": "stream",
     "text": [
      "[nltk_data] Downloading package stopwords to\n",
      "[nltk_data]     C:\\Users\\Lenovo\\AppData\\Roaming\\nltk_data...\n",
      "[nltk_data]   Package stopwords is already up-to-date!\n"
     ]
    }
   ],
   "source": [
    "nltk.download(\"stopwords\")\n",
    "stopwords_english = stopwords.words('english')\n",
    "def remove_punc(sen): # function used to tokenize the reviews and removing puctuation and stopwoeds\n",
    "    try:\n",
    "        token = word_tokenize(sen)\n",
    "        tweets_clean = []\n",
    "        for word in token: # Go through every word in your tokens list\n",
    "            if (word not in stopwords_english and  # remove stopwords\n",
    "                word not in string.punctuation):  # remove punctuation\n",
    "                tweets_clean.append(word)\n",
    "        return tweets_clean\n",
    "    except:\n",
    "        return np.nan"
   ]
  },
  {
   "cell_type": "code",
   "execution_count": 3,
   "id": "9045e443",
   "metadata": {},
   "outputs": [],
   "source": [
    "def process_tweet(tweet): #for preprocessing twitter reviews\n",
    "    tweet= demoji.replace(tweet,'')  #removing the emojis\n",
    "    stemmer = PorterStemmer()\n",
    "    stopwords_english = stopwords.words('english')\n",
    "    # remove stock market tickers like $GE\n",
    "    tweet = re.sub(r'\\$\\w*', '', tweet)\n",
    "    # remove old style retweet text \"RT\"\n",
    "    tweet = re.sub(r'^RT[\\s]+', '', tweet)\n",
    "    # remove hyperlinks    \n",
    "    tweet = re.sub(r'https?://[^\\s\\n\\r]+', '', tweet)\n",
    "    # remove hashtags\n",
    "    # only removing the hash # sign from the word\n",
    "    tweet = re.sub(r'#', '', tweet)\n",
    "    # tokenize tweets\n",
    "    tokenizer = TweetTokenizer(preserve_case=False, strip_handles=True,\n",
    "                               reduce_len=True)\n",
    "    tweet_tokens = tokenizer.tokenize(tweet)\n",
    "\n",
    "    tweets_clean = []\n",
    "    for word in tweet_tokens:\n",
    "        if (word not in stopwords_english and  # remove stopwords\n",
    "                word not in string.punctuation):  # remove punctuation\n",
    "            # tweets_clean.append(word)\n",
    "            stem_word = stemmer.stem(word)  # stemming word\n",
    "            tweets_clean.append(stem_word)\n",
    "\n",
    "    return tweets_clean"
   ]
  },
  {
   "cell_type": "code",
   "execution_count": 4,
   "id": "b4131d39",
   "metadata": {},
   "outputs": [],
   "source": [
    "from vaderSentiment.vaderSentiment import SentimentIntensityAnalyzer\n",
    "\n",
    "analyzer = SentimentIntensityAnalyzer()\n",
    "\n",
    "def analyze_sentiment(text):\n",
    "    try:   \n",
    "        sentiment = analyzer.polarity_scores(text)\n",
    "        if sentiment['compound'] >= 0.05:\n",
    "            return 'positive'\n",
    "        elif sentiment['compound'] <= -0.05:\n",
    "            return 'negative'\n",
    "        else:\n",
    "            return 'neutral'\n",
    "    except:\n",
    "        return np.nan\n"
   ]
  },
  {
   "cell_type": "code",
   "execution_count": 230,
   "id": "e572095b",
   "metadata": {},
   "outputs": [],
   "source": [
    "# Check setiment distribution of reviews \n",
    "def pie_chart(dataframe):\n",
    "  # Converting pd object to list of string\n",
    "  label_types  = ['positive','negative','neutral']\n",
    "  # Count tweets for each label\n",
    "  label_counts = dataframe.sentiment.value_counts()     \n",
    "  print('Labels in the dataset: ', label_types) \n",
    "  print(label_counts)\n",
    "  # labels for the two classes\n",
    "  labels = label_types #'Positives', 'Negative'\n",
    "  # Sizes for each slide\n",
    "  sizes = [count for count in label_counts]\n",
    "  # Declare a figure with a custom size\n",
    "  fig = plt.figure(figsize=(5, 5))\n",
    "  # Declare pie chart, where the slices will be ordered and plotted counter-clockwise:\n",
    "  plt.pie(sizes, labels=labels, autopct='%1.1f%%',\n",
    "          shadow=True, startangle=90)\n",
    "  # Equal aspect ratio ensures that pie is drawn as a circle.\n",
    "  plt.axis('equal') \n",
    "  # Display the chart\n",
    "  plt.show()"
   ]
  },
  {
   "cell_type": "code",
   "execution_count": null,
   "id": "0781d6f2",
   "metadata": {},
   "outputs": [],
   "source": [
    "def filter_(list_):\n",
    "    try:\n",
    "        p = 'enjoyed'\n",
    "        if p in list_ and len(list_)<15:\n",
    "            return True\n",
    "        else:\n",
    "            return False\n",
    "    except:\n",
    "        return False"
   ]
  },
  {
   "cell_type": "markdown",
   "id": "852ddf39",
   "metadata": {},
   "source": [
    "<div style=\"text-align: center; margin-left: px;\">\n",
    "    <h1 style=\"color:red;\">Web Scraping IMBD Reviews</h1>\n",
    "</div>"
   ]
  },
  {
   "cell_type": "code",
   "execution_count": 5,
   "id": "d83af4d4",
   "metadata": {},
   "outputs": [],
   "source": [
    "df_tweets = pd.read_csv(\"tweets.csv\")  "
   ]
  },
  {
   "cell_type": "code",
   "execution_count": 7,
   "id": "2266e948",
   "metadata": {},
   "outputs": [],
   "source": [
    "df_imbd = pd.read_csv(\"imbd_reviews.csv\")"
   ]
  },
  {
   "cell_type": "code",
   "execution_count": 76,
   "id": "c9e79d79",
   "metadata": {},
   "outputs": [],
   "source": [
    "df_twitter = df_tweets['text']"
   ]
  },
  {
   "cell_type": "code",
   "execution_count": 6,
   "id": "78ced8f6",
   "metadata": {},
   "outputs": [],
   "source": [
    "df_rt = pd.read_csv(\"rotentomatoes.csv\")"
   ]
  },
  {
   "cell_type": "code",
   "execution_count": 8,
   "id": "c3e34db0",
   "metadata": {},
   "outputs": [],
   "source": [
    "df_rt.drop(df_rt.columns[[0,1,4]],axis = 1,inplace = True)"
   ]
  },
  {
   "cell_type": "code",
   "execution_count": 49,
   "id": "913e379a",
   "metadata": {},
   "outputs": [
    {
     "data": {
      "text/html": [
       "<div>\n",
       "<style scoped>\n",
       "    .dataframe tbody tr th:only-of-type {\n",
       "        vertical-align: middle;\n",
       "    }\n",
       "\n",
       "    .dataframe tbody tr th {\n",
       "        vertical-align: top;\n",
       "    }\n",
       "\n",
       "    .dataframe thead th {\n",
       "        text-align: right;\n",
       "    }\n",
       "</style>\n",
       "<table border=\"1\" class=\"dataframe\">\n",
       "  <thead>\n",
       "    <tr style=\"text-align: right;\">\n",
       "      <th></th>\n",
       "      <th>audience-reviews__duration</th>\n",
       "      <th>audience-reviews__review</th>\n",
       "    </tr>\n",
       "  </thead>\n",
       "  <tbody>\n",
       "    <tr>\n",
       "      <th>0</th>\n",
       "      <td>Oct 12, 2023</td>\n",
       "      <td>the worst jurassic park movies, there's nothin...</td>\n",
       "    </tr>\n",
       "    <tr>\n",
       "      <th>1</th>\n",
       "      <td>Oct 9, 2023</td>\n",
       "      <td>The start of the movie was a bit slow but then...</td>\n",
       "    </tr>\n",
       "    <tr>\n",
       "      <th>2</th>\n",
       "      <td>Oct 5, 2023</td>\n",
       "      <td>Wow \\nWhat a colossal waist of time and money ...</td>\n",
       "    </tr>\n",
       "    <tr>\n",
       "      <th>3</th>\n",
       "      <td>Oct 3, 2023</td>\n",
       "      <td>Just the nostalgia makes it such a great movie...</td>\n",
       "    </tr>\n",
       "    <tr>\n",
       "      <th>4</th>\n",
       "      <td>Oct 1, 2023</td>\n",
       "      <td>I loved it! I really think people can't just w...</td>\n",
       "    </tr>\n",
       "    <tr>\n",
       "      <th>...</th>\n",
       "      <td>...</td>\n",
       "      <td>...</td>\n",
       "    </tr>\n",
       "    <tr>\n",
       "      <th>6315</th>\n",
       "      <td>Jun 15, 2022</td>\n",
       "      <td>Starts out slow. Too much talking. Once the di...</td>\n",
       "    </tr>\n",
       "    <tr>\n",
       "      <th>6316</th>\n",
       "      <td>Jun 15, 2022</td>\n",
       "      <td>Dinosaurs were cool but the story was a bit la...</td>\n",
       "    </tr>\n",
       "    <tr>\n",
       "      <th>6317</th>\n",
       "      <td>Jun 15, 2022</td>\n",
       "      <td>While it was a big budget spectacle, the overw...</td>\n",
       "    </tr>\n",
       "    <tr>\n",
       "      <th>6318</th>\n",
       "      <td>Jun 15, 2022</td>\n",
       "      <td>Great storyline and cinematography.  Love the ...</td>\n",
       "    </tr>\n",
       "    <tr>\n",
       "      <th>6319</th>\n",
       "      <td>Jun 15, 2022</td>\n",
       "      <td>Wasn’t the best. On par with Jurassic Park 3</td>\n",
       "    </tr>\n",
       "  </tbody>\n",
       "</table>\n",
       "<p>6320 rows × 2 columns</p>\n",
       "</div>"
      ],
      "text/plain": [
       "     audience-reviews__duration  \\\n",
       "0                  Oct 12, 2023   \n",
       "1                   Oct 9, 2023   \n",
       "2                   Oct 5, 2023   \n",
       "3                   Oct 3, 2023   \n",
       "4                   Oct 1, 2023   \n",
       "...                         ...   \n",
       "6315               Jun 15, 2022   \n",
       "6316               Jun 15, 2022   \n",
       "6317               Jun 15, 2022   \n",
       "6318               Jun 15, 2022   \n",
       "6319               Jun 15, 2022   \n",
       "\n",
       "                               audience-reviews__review  \n",
       "0     the worst jurassic park movies, there's nothin...  \n",
       "1     The start of the movie was a bit slow but then...  \n",
       "2     Wow \\nWhat a colossal waist of time and money ...  \n",
       "3     Just the nostalgia makes it such a great movie...  \n",
       "4     I loved it! I really think people can't just w...  \n",
       "...                                                 ...  \n",
       "6315  Starts out slow. Too much talking. Once the di...  \n",
       "6316  Dinosaurs were cool but the story was a bit la...  \n",
       "6317  While it was a big budget spectacle, the overw...  \n",
       "6318  Great storyline and cinematography.  Love the ...  \n",
       "6319       Wasn’t the best. On par with Jurassic Park 3  \n",
       "\n",
       "[6320 rows x 2 columns]"
      ]
     },
     "execution_count": 49,
     "metadata": {},
     "output_type": "execute_result"
    }
   ],
   "source": [
    "df_rt"
   ]
  },
  {
   "cell_type": "code",
   "execution_count": 85,
   "id": "10259aee",
   "metadata": {},
   "outputs": [],
   "source": [
    "s = Service(\"chromedriver.exe\")\n",
    "driver = webdriver.Chrome(service = s)\n",
    "url = \"https://www.imdb.com/title/tt8041270/reviews/?ref_=tt_ov_rt\"\n",
    "driver.get(url)"
   ]
  },
  {
   "cell_type": "code",
   "execution_count": 64,
   "id": "08f63de9",
   "metadata": {},
   "outputs": [],
   "source": [
    "sel = Selector(text = driver.page_source)\n",
    "review_counts = sel.css('.lister .header span::text').extract_first().replace(',','').split(' ')[0]\n",
    "more_review_pages = int(int(review_counts)/25)"
   ]
  },
  {
   "cell_type": "code",
   "execution_count": 87,
   "id": "1450ec0e",
   "metadata": {},
   "outputs": [
    {
     "name": "stderr",
     "output_type": "stream",
     "text": [
      "100%|████████████████████████████████████████████████████████████████████████████████| 109/109 [00:06<00:00, 15.64it/s]\n"
     ]
    }
   ],
   "source": [
    "for i in tqdm(range(more_review_pages)):\n",
    "    try:\n",
    "        css_selector = 'load-more-trigger'\n",
    "        driver.find_element(By.ID, css_selector).click()\n",
    "        time.sleep(2)\n",
    "    except:\n",
    "        pass"
   ]
  },
  {
   "cell_type": "code",
   "execution_count": 88,
   "id": "280fee75",
   "metadata": {},
   "outputs": [],
   "source": [
    "reviews = driver.find_elements(By.CSS_SELECTOR, 'div.review-container')"
   ]
  },
  {
   "cell_type": "code",
   "execution_count": 89,
   "id": "e501337b",
   "metadata": {},
   "outputs": [],
   "source": [
    "sel2 = Selector(text = reviews[3].get_attribute('innerHTML'))"
   ]
  },
  {
   "cell_type": "code",
   "execution_count": 90,
   "id": "59f6087a",
   "metadata": {},
   "outputs": [],
   "source": [
    "review = sel2.css('.text.show-more__control::text').extract_first().strip()"
   ]
  },
  {
   "cell_type": "code",
   "execution_count": 91,
   "id": "5f9fe9a8",
   "metadata": {},
   "outputs": [
    {
     "name": "stderr",
     "output_type": "stream",
     "text": [
      "100%|██████████████████████████████████████████████████████████████████████████████| 2732/2732 [01:00<00:00, 45.28it/s]\n"
     ]
    }
   ],
   "source": [
    "rating_list = []\n",
    "review_date_list = []\n",
    "review_title_list = []\n",
    "author_list = []\n",
    "review_list = []\n",
    "review_url_list = []\n",
    "error_url_list = []\n",
    "error_msg_list = []\n",
    "reviews = driver.find_elements(By.CSS_SELECTOR, 'div.review-container')\n",
    "\n",
    "for d in tqdm(reviews):\n",
    "    try:\n",
    "        sel2 = Selector(text = d.get_attribute('innerHTML'))\n",
    "        try:\n",
    "            rating = sel2.css('.rating-other-user-rating span::text').extract_first()\n",
    "        except:\n",
    "            rating = np.NaN\n",
    "        try:\n",
    "            review = sel2.css('.text.show-more__control::text').extract_first()\n",
    "        except:\n",
    "            review = np.NaN\n",
    "        try:\n",
    "            review_date = sel2.css('.review-date::text').extract_first()\n",
    "        except:\n",
    "            review_date = np.NaN    \n",
    "        try:\n",
    "            author = sel2.css('.display-name-link a::text').extract_first()\n",
    "        except:\n",
    "            author = np.NaN    \n",
    "        try:\n",
    "            review_title = sel2.css('a.title::text').extract_first()\n",
    "        except:\n",
    "            review_title = np.NaN\n",
    "        try:\n",
    "            review_url = sel2.css('a.title::attr(href)').extract_first()\n",
    "        except:\n",
    "            review_url = np.NaN\n",
    "        rating_list.append(rating)\n",
    "        review_date_list.append(review_date)\n",
    "        review_title_list.append(review_title)\n",
    "        author_list.append(author)\n",
    "        review_list.append(review)\n",
    "        review_url_list.append(review_url)\n",
    "    except Exception as e:\n",
    "        error_url_list.append(url)\n",
    "        error_msg_list.append(e)\n",
    "review_df = pd.DataFrame({\n",
    "    'Review_Date':review_date_list,\n",
    "    'Author':author_list,\n",
    "    'Rating':rating_list,\n",
    "    'Review_Title':review_title_list,\n",
    "    'Review':review_list,\n",
    "    'Review_Url':review_url\n",
    "    })"
   ]
  },
  {
   "cell_type": "code",
   "execution_count": 92,
   "id": "7e282218",
   "metadata": {},
   "outputs": [
    {
     "data": {
      "text/html": [
       "<div>\n",
       "<style scoped>\n",
       "    .dataframe tbody tr th:only-of-type {\n",
       "        vertical-align: middle;\n",
       "    }\n",
       "\n",
       "    .dataframe tbody tr th {\n",
       "        vertical-align: top;\n",
       "    }\n",
       "\n",
       "    .dataframe thead th {\n",
       "        text-align: right;\n",
       "    }\n",
       "</style>\n",
       "<table border=\"1\" class=\"dataframe\">\n",
       "  <thead>\n",
       "    <tr style=\"text-align: right;\">\n",
       "      <th></th>\n",
       "      <th>Review_Date</th>\n",
       "      <th>Author</th>\n",
       "      <th>Rating</th>\n",
       "      <th>Review_Title</th>\n",
       "      <th>Review</th>\n",
       "      <th>Review_Url</th>\n",
       "    </tr>\n",
       "  </thead>\n",
       "  <tbody>\n",
       "    <tr>\n",
       "      <th>0</th>\n",
       "      <td>23 July 2022</td>\n",
       "      <td>stevelivesey67</td>\n",
       "      <td>2</td>\n",
       "      <td>Astonishingly bad, long and boring\\n</td>\n",
       "      <td>Bad script, bad acting, stupid story, a new di...</td>\n",
       "      <td>/review/rw8229952/?ref_=tt_urv</td>\n",
       "    </tr>\n",
       "    <tr>\n",
       "      <th>1</th>\n",
       "      <td>5 June 2022</td>\n",
       "      <td>sumtim3s00n</td>\n",
       "      <td>None</td>\n",
       "      <td>80% revisiting old characters and scenes, no ...</td>\n",
       "      <td>This movie consists mostly of us watching prev...</td>\n",
       "      <td>/review/rw8229952/?ref_=tt_urv</td>\n",
       "    </tr>\n",
       "    <tr>\n",
       "      <th>2</th>\n",
       "      <td>10 June 2022</td>\n",
       "      <td>FeastMode</td>\n",
       "      <td>3</td>\n",
       "      <td>A generic, lifeless adventure movie that happ...</td>\n",
       "      <td>If I were to list out all the things this movi...</td>\n",
       "      <td>/review/rw8229952/?ref_=tt_urv</td>\n",
       "    </tr>\n",
       "    <tr>\n",
       "      <th>3</th>\n",
       "      <td>23 June 2022</td>\n",
       "      <td>Hitchcoc</td>\n",
       "      <td>5</td>\n",
       "      <td>Sorry It Was So Bad\\n</td>\n",
       "      <td>Before I went to this film (because my Grandso...</td>\n",
       "      <td>/review/rw8229952/?ref_=tt_urv</td>\n",
       "    </tr>\n",
       "    <tr>\n",
       "      <th>4</th>\n",
       "      <td>16 June 2022</td>\n",
       "      <td>bass-player-blues</td>\n",
       "      <td>1</td>\n",
       "      <td>Things I learned from Jurassic World: Dominio...</td>\n",
       "      <td>-Dinousaurs that only survived in warm climate...</td>\n",
       "      <td>/review/rw8229952/?ref_=tt_urv</td>\n",
       "    </tr>\n",
       "    <tr>\n",
       "      <th>...</th>\n",
       "      <td>...</td>\n",
       "      <td>...</td>\n",
       "      <td>...</td>\n",
       "      <td>...</td>\n",
       "      <td>...</td>\n",
       "      <td>...</td>\n",
       "    </tr>\n",
       "    <tr>\n",
       "      <th>2727</th>\n",
       "      <td>26 November 2022</td>\n",
       "      <td>jameslau-54307</td>\n",
       "      <td>2</td>\n",
       "      <td>Ruining my childhood memories.\\n</td>\n",
       "      <td>Please stop making more Jurassic World films. ...</td>\n",
       "      <td>/review/rw8229952/?ref_=tt_urv</td>\n",
       "    </tr>\n",
       "    <tr>\n",
       "      <th>2728</th>\n",
       "      <td>17 July 2022</td>\n",
       "      <td>bobbertv</td>\n",
       "      <td>None</td>\n",
       "      <td>Jeff Goldbloom owes me 20$ bucks!!!!!\\n</td>\n",
       "      <td>First off whose this white haired Steve Jobs/ ...</td>\n",
       "      <td>/review/rw8229952/?ref_=tt_urv</td>\n",
       "    </tr>\n",
       "    <tr>\n",
       "      <th>2729</th>\n",
       "      <td>11 June 2022</td>\n",
       "      <td>MaxRockatansky99</td>\n",
       "      <td>5</td>\n",
       "      <td>Milking the franchise\\n</td>\n",
       "      <td>Visually beautiful, the CGI is excellent, and ...</td>\n",
       "      <td>/review/rw8229952/?ref_=tt_urv</td>\n",
       "    </tr>\n",
       "    <tr>\n",
       "      <th>2730</th>\n",
       "      <td>20 September 2022</td>\n",
       "      <td>ddrutis</td>\n",
       "      <td>3</td>\n",
       "      <td>You can only go there so many times - corny a...</td>\n",
       "      <td>I've enjoyed all of the Jurassic Park movies -...</td>\n",
       "      <td>/review/rw8229952/?ref_=tt_urv</td>\n",
       "    </tr>\n",
       "    <tr>\n",
       "      <th>2731</th>\n",
       "      <td>12 June 2022</td>\n",
       "      <td>javaughnhenry</td>\n",
       "      <td>4</td>\n",
       "      <td>An anticlimactic end of a legendary era.\\n</td>\n",
       "      <td>This movie sucks.... uninteresting plot, too m...</td>\n",
       "      <td>/review/rw8229952/?ref_=tt_urv</td>\n",
       "    </tr>\n",
       "  </tbody>\n",
       "</table>\n",
       "<p>2732 rows × 6 columns</p>\n",
       "</div>"
      ],
      "text/plain": [
       "            Review_Date             Author Rating  \\\n",
       "0          23 July 2022     stevelivesey67      2   \n",
       "1           5 June 2022        sumtim3s00n   None   \n",
       "2          10 June 2022          FeastMode      3   \n",
       "3          23 June 2022           Hitchcoc      5   \n",
       "4          16 June 2022  bass-player-blues      1   \n",
       "...                 ...                ...    ...   \n",
       "2727   26 November 2022     jameslau-54307      2   \n",
       "2728       17 July 2022           bobbertv   None   \n",
       "2729       11 June 2022   MaxRockatansky99      5   \n",
       "2730  20 September 2022            ddrutis      3   \n",
       "2731       12 June 2022      javaughnhenry      4   \n",
       "\n",
       "                                           Review_Title  \\\n",
       "0                  Astonishingly bad, long and boring\\n   \n",
       "1      80% revisiting old characters and scenes, no ...   \n",
       "2      A generic, lifeless adventure movie that happ...   \n",
       "3                                 Sorry It Was So Bad\\n   \n",
       "4      Things I learned from Jurassic World: Dominio...   \n",
       "...                                                 ...   \n",
       "2727                   Ruining my childhood memories.\\n   \n",
       "2728            Jeff Goldbloom owes me 20$ bucks!!!!!\\n   \n",
       "2729                            Milking the franchise\\n   \n",
       "2730   You can only go there so many times - corny a...   \n",
       "2731         An anticlimactic end of a legendary era.\\n   \n",
       "\n",
       "                                                 Review  \\\n",
       "0     Bad script, bad acting, stupid story, a new di...   \n",
       "1     This movie consists mostly of us watching prev...   \n",
       "2     If I were to list out all the things this movi...   \n",
       "3     Before I went to this film (because my Grandso...   \n",
       "4     -Dinousaurs that only survived in warm climate...   \n",
       "...                                                 ...   \n",
       "2727  Please stop making more Jurassic World films. ...   \n",
       "2728  First off whose this white haired Steve Jobs/ ...   \n",
       "2729  Visually beautiful, the CGI is excellent, and ...   \n",
       "2730  I've enjoyed all of the Jurassic Park movies -...   \n",
       "2731  This movie sucks.... uninteresting plot, too m...   \n",
       "\n",
       "                          Review_Url  \n",
       "0     /review/rw8229952/?ref_=tt_urv  \n",
       "1     /review/rw8229952/?ref_=tt_urv  \n",
       "2     /review/rw8229952/?ref_=tt_urv  \n",
       "3     /review/rw8229952/?ref_=tt_urv  \n",
       "4     /review/rw8229952/?ref_=tt_urv  \n",
       "...                              ...  \n",
       "2727  /review/rw8229952/?ref_=tt_urv  \n",
       "2728  /review/rw8229952/?ref_=tt_urv  \n",
       "2729  /review/rw8229952/?ref_=tt_urv  \n",
       "2730  /review/rw8229952/?ref_=tt_urv  \n",
       "2731  /review/rw8229952/?ref_=tt_urv  \n",
       "\n",
       "[2732 rows x 6 columns]"
      ]
     },
     "execution_count": 92,
     "metadata": {},
     "output_type": "execute_result"
    }
   ],
   "source": [
    "review_df"
   ]
  },
  {
   "cell_type": "code",
   "execution_count": 94,
   "id": "816c431d",
   "metadata": {},
   "outputs": [],
   "source": [
    "review_df.to_csv(\"imbd_reviews.csv\")"
   ]
  },
  {
   "cell_type": "markdown",
   "id": "1a7c0f76",
   "metadata": {},
   "source": [
    "## Preprocessing text of Twitter Reviews"
   ]
  },
  {
   "cell_type": "code",
   "execution_count": 79,
   "id": "eb744a01",
   "metadata": {},
   "outputs": [],
   "source": [
    "process_t_r= df_twitter.apply(process_tweet)"
   ]
  },
  {
   "cell_type": "code",
   "execution_count": 80,
   "id": "8af9c97d",
   "metadata": {},
   "outputs": [],
   "source": [
    "flattened_list = [item for sublist in list(process_t_r) for item in sublist]"
   ]
  },
  {
   "cell_type": "code",
   "execution_count": 82,
   "id": "2dea7e0b",
   "metadata": {},
   "outputs": [],
   "source": [
    "tweet_word_series= pd.Series(flattened_list)"
   ]
  },
  {
   "cell_type": "code",
   "execution_count": 83,
   "id": "a45c93ea",
   "metadata": {},
   "outputs": [],
   "source": [
    "p_w_t=[]\n",
    "n_w_t=[]\n",
    "ne_w_t=[]\n",
    "for i in tweet_word_series:\n",
    "    if i in negative_words:\n",
    "        n_w_t.append(i)\n",
    "    elif i in positive_words:\n",
    "        p_w_t.append(i)\n",
    "    else:\n",
    "        ne_w_t.append(i)"
   ]
  },
  {
   "cell_type": "code",
   "execution_count": 78,
   "id": "b924a8e5",
   "metadata": {},
   "outputs": [
    {
     "data": {
      "text/plain": [
       "positive    285\n",
       "neutral     194\n",
       "negative     45\n",
       "Name: text, dtype: int64"
      ]
     },
     "execution_count": 78,
     "metadata": {},
     "output_type": "execute_result"
    }
   ],
   "source": [
    "df_twitter.apply(analyze_sentiment).value_counts()"
   ]
  },
  {
   "cell_type": "markdown",
   "id": "c29d26b3",
   "metadata": {},
   "source": [
    "## Preprocessing Imbd and Rotten Tomatoes Reviews"
   ]
  },
  {
   "cell_type": "code",
   "execution_count": 162,
   "id": "ee44f519",
   "metadata": {},
   "outputs": [
    {
     "data": {
      "text/plain": [
       "Index(['audience-reviews__duration', 'audience-reviews__review'], dtype='object')"
      ]
     },
     "execution_count": 162,
     "metadata": {},
     "output_type": "execute_result"
    }
   ],
   "source": [
    "df_rt.columns"
   ]
  },
  {
   "cell_type": "code",
   "execution_count": 11,
   "id": "7e559a24",
   "metadata": {},
   "outputs": [],
   "source": [
    "df_rt.rename(columns = {'audience-reviews__duration':'Review_Date','audience-reviews__review':'Review'},inplace = True)"
   ]
  },
  {
   "cell_type": "code",
   "execution_count": 9,
   "id": "c8af0f2d",
   "metadata": {},
   "outputs": [],
   "source": [
    "df_imbd_reviews =  df_imbd[['Review_Date','Review']]"
   ]
  },
  {
   "cell_type": "code",
   "execution_count": 13,
   "id": "8ee371ed",
   "metadata": {},
   "outputs": [],
   "source": [
    "df_reviews =  pd.concat([df_imbd_reviews,df_rt],axis=0,ignore_index=True) #combining imbd and rotten tomatoes reviews"
   ]
  },
  {
   "cell_type": "code",
   "execution_count": 18,
   "id": "c8fabf62",
   "metadata": {},
   "outputs": [],
   "source": [
    "df_reviews['Review_Date']=pd.to_datetime(df_reviews['Review_Date'])"
   ]
  },
  {
   "cell_type": "code",
   "execution_count": 31,
   "id": "63fc1507",
   "metadata": {},
   "outputs": [],
   "source": [
    "puc_removed=df_reviews['Review'].apply(remove_punc)"
   ]
  },
  {
   "cell_type": "code",
   "execution_count": 35,
   "id": "d23c5664",
   "metadata": {},
   "outputs": [
    {
     "name": "stdout",
     "output_type": "stream",
     "text": [
      "nan\n"
     ]
    }
   ],
   "source": [
    "l_reviews_words= []\n",
    "for i in puc_removed:\n",
    "    try:\n",
    "        l_reviews_words.extend(i)\n",
    "    except:\n",
    "        print(i)"
   ]
  },
  {
   "cell_type": "code",
   "execution_count": 214,
   "id": "927e7969",
   "metadata": {},
   "outputs": [],
   "source": [
    "review_word_series= pd.Series(l_reviews_words)"
   ]
  },
  {
   "cell_type": "markdown",
   "id": "7716cf36",
   "metadata": {},
   "source": [
    "## Analyzing Reviews Using Positive and negative Words"
   ]
  },
  {
   "cell_type": "code",
   "execution_count": 46,
   "id": "39c341c8",
   "metadata": {},
   "outputs": [],
   "source": [
    "positive_words = set(opinion_lexicon.positive())\n",
    "negative_words = set(opinion_lexicon.negative())"
   ]
  },
  {
   "cell_type": "code",
   "execution_count": 215,
   "id": "584618c7",
   "metadata": {},
   "outputs": [],
   "source": [
    "p_w=[]\n",
    "n_w=[]\n",
    "ne_w=[]\n",
    "for i in review_word_series:\n",
    "    if i in negative_words:\n",
    "        n_w.append(i)\n",
    "    elif i in positive_words:\n",
    "        p_w.append(i)\n",
    "    else:\n",
    "        ne_w.append(i)"
   ]
  },
  {
   "cell_type": "code",
   "execution_count": 216,
   "id": "a1628514",
   "metadata": {},
   "outputs": [
    {
     "data": {
      "image/png": "[encoded data removed]",
      "text/plain": [
       "<Figure size 640x480 with 1 Axes>"
      ]
     },
     "metadata": {},
     "output_type": "display_data"
    }
   ],
   "source": [
    "plt.pie(x = [len(p_w),len(n_w)],labels = ['positive words','negative words'],startangle=90,autopct='%1.1f%%',shadow= True)\n",
    "plt.show()"
   ]
  },
  {
   "cell_type": "markdown",
   "id": "b3e4bd20",
   "metadata": {},
   "source": [
    "Insight -There diff betwwen positive and negative worlds is not much which shows that movie was not much liked by the audiance."
   ]
  },
  {
   "cell_type": "code",
   "execution_count": 102,
   "id": "cf31119c",
   "metadata": {},
   "outputs": [
    {
     "data": {
      "text/html": [
       "<div>\n",
       "<style scoped>\n",
       "    .dataframe tbody tr th:only-of-type {\n",
       "        vertical-align: middle;\n",
       "    }\n",
       "\n",
       "    .dataframe tbody tr th {\n",
       "        vertical-align: top;\n",
       "    }\n",
       "\n",
       "    .dataframe thead th {\n",
       "        text-align: right;\n",
       "    }\n",
       "</style>\n",
       "<table border=\"1\" class=\"dataframe\">\n",
       "  <thead>\n",
       "    <tr style=\"text-align: right;\">\n",
       "      <th></th>\n",
       "      <th>Review_Date</th>\n",
       "      <th>Review</th>\n",
       "      <th>sentiment</th>\n",
       "    </tr>\n",
       "  </thead>\n",
       "  <tbody>\n",
       "    <tr>\n",
       "      <th>0</th>\n",
       "      <td>2022-07-23</td>\n",
       "      <td>Bad script, bad acting, stupid story, a new di...</td>\n",
       "      <td>negative</td>\n",
       "    </tr>\n",
       "    <tr>\n",
       "      <th>1</th>\n",
       "      <td>2022-06-05</td>\n",
       "      <td>This movie consists mostly of us watching prev...</td>\n",
       "      <td>positive</td>\n",
       "    </tr>\n",
       "    <tr>\n",
       "      <th>2</th>\n",
       "      <td>2022-06-10</td>\n",
       "      <td>If I were to list out all the things this movi...</td>\n",
       "      <td>positive</td>\n",
       "    </tr>\n",
       "    <tr>\n",
       "      <th>3</th>\n",
       "      <td>2022-06-23</td>\n",
       "      <td>Before I went to this film (because my Grandso...</td>\n",
       "      <td>positive</td>\n",
       "    </tr>\n",
       "    <tr>\n",
       "      <th>4</th>\n",
       "      <td>2022-06-16</td>\n",
       "      <td>-Dinousaurs that only survived in warm climate...</td>\n",
       "      <td>positive</td>\n",
       "    </tr>\n",
       "    <tr>\n",
       "      <th>...</th>\n",
       "      <td>...</td>\n",
       "      <td>...</td>\n",
       "      <td>...</td>\n",
       "    </tr>\n",
       "    <tr>\n",
       "      <th>9047</th>\n",
       "      <td>2022-06-15</td>\n",
       "      <td>Starts out slow. Too much talking. Once the di...</td>\n",
       "      <td>positive</td>\n",
       "    </tr>\n",
       "    <tr>\n",
       "      <th>9048</th>\n",
       "      <td>2022-06-15</td>\n",
       "      <td>Dinosaurs were cool but the story was a bit la...</td>\n",
       "      <td>negative</td>\n",
       "    </tr>\n",
       "    <tr>\n",
       "      <th>9049</th>\n",
       "      <td>2022-06-15</td>\n",
       "      <td>While it was a big budget spectacle, the overw...</td>\n",
       "      <td>negative</td>\n",
       "    </tr>\n",
       "    <tr>\n",
       "      <th>9050</th>\n",
       "      <td>2022-06-15</td>\n",
       "      <td>Great storyline and cinematography.  Love the ...</td>\n",
       "      <td>positive</td>\n",
       "    </tr>\n",
       "    <tr>\n",
       "      <th>9051</th>\n",
       "      <td>2022-06-15</td>\n",
       "      <td>Wasn’t the best. On par with Jurassic Park 3</td>\n",
       "      <td>positive</td>\n",
       "    </tr>\n",
       "  </tbody>\n",
       "</table>\n",
       "<p>9052 rows × 3 columns</p>\n",
       "</div>"
      ],
      "text/plain": [
       "     Review_Date                                             Review sentiment\n",
       "0     2022-07-23  Bad script, bad acting, stupid story, a new di...  negative\n",
       "1     2022-06-05  This movie consists mostly of us watching prev...  positive\n",
       "2     2022-06-10  If I were to list out all the things this movi...  positive\n",
       "3     2022-06-23  Before I went to this film (because my Grandso...  positive\n",
       "4     2022-06-16  -Dinousaurs that only survived in warm climate...  positive\n",
       "...          ...                                                ...       ...\n",
       "9047  2022-06-15  Starts out slow. Too much talking. Once the di...  positive\n",
       "9048  2022-06-15  Dinosaurs were cool but the story was a bit la...  negative\n",
       "9049  2022-06-15  While it was a big budget spectacle, the overw...  negative\n",
       "9050  2022-06-15  Great storyline and cinematography.  Love the ...  positive\n",
       "9051  2022-06-15       Wasn’t the best. On par with Jurassic Park 3  positive\n",
       "\n",
       "[9052 rows x 3 columns]"
      ]
     },
     "execution_count": 102,
     "metadata": {},
     "output_type": "execute_result"
    }
   ],
   "source": [
    "df_reviews"
   ]
  },
  {
   "cell_type": "code",
   "execution_count": 224,
   "id": "dd2dd814",
   "metadata": {},
   "outputs": [
    {
     "data": {
      "image/png": "[encoded data removed]",
      "text/plain": [
       "<Figure size 640x480 with 1 Axes>"
      ]
     },
     "metadata": {},
     "output_type": "display_data"
    }
   ],
   "source": [
    "plt.title(label = \"Top negative Words\")\n",
    "sns.barplot(y=pd.Series(n_w).value_counts()[0:5].index,x =pd.Series(n_w).value_counts()[0:5] )\n",
    "plt.show()"
   ]
  },
  {
   "cell_type": "code",
   "execution_count": 226,
   "id": "05578961",
   "metadata": {},
   "outputs": [
    {
     "data": {
      "image/png": "[encoded data removed]",
      "text/plain": [
       "<Figure size 640x480 with 1 Axes>"
      ]
     },
     "metadata": {},
     "output_type": "display_data"
    }
   ],
   "source": [
    "plt.title(label = \"Top Positive Words\")\n",
    "sns.barplot(y=pd.Series(p_w).value_counts()[0:5].index,x =pd.Series(p_w).value_counts()[0:5] )\n",
    "plt.show()"
   ]
  },
  {
   "cell_type": "code",
   "execution_count": 227,
   "id": "aa942d26",
   "metadata": {},
   "outputs": [
    {
     "data": {
      "image/png": "[encoded data removed]",
      "text/plain": [
       "<Figure size 640x480 with 1 Axes>"
      ]
     },
     "metadata": {},
     "output_type": "display_data"
    }
   ],
   "source": [
    "plt.title(label = \"Top Positive Words \")\n",
    "sns.barplot(y=pd.Series(ne_w).value_counts()[0:5].index,x =pd.Series(ne_w).value_counts()[0:5] )\n",
    "plt.show()"
   ]
  },
  {
   "cell_type": "markdown",
   "id": "ed8f6607",
   "metadata": {},
   "source": [
    "## Analyzing Sentiment Analysis of reviews using VADER (Valence Aware Dictionary and Entiment Reasoner)"
   ]
  },
  {
   "cell_type": "code",
   "execution_count": null,
   "id": "c62b6e03",
   "metadata": {},
   "outputs": [],
   "source": []
  },
  {
   "cell_type": "code",
   "execution_count": 91,
   "id": "6cf6526b",
   "metadata": {},
   "outputs": [],
   "source": [
    "df_reviews['sentiment']= df_reviews['Review'].apply(analyze_sentiment)"
   ]
  },
  {
   "cell_type": "code",
   "execution_count": 92,
   "id": "5be6e27a",
   "metadata": {},
   "outputs": [
    {
     "data": {
      "text/html": [
       "<div>\n",
       "<style scoped>\n",
       "    .dataframe tbody tr th:only-of-type {\n",
       "        vertical-align: middle;\n",
       "    }\n",
       "\n",
       "    .dataframe tbody tr th {\n",
       "        vertical-align: top;\n",
       "    }\n",
       "\n",
       "    .dataframe thead th {\n",
       "        text-align: right;\n",
       "    }\n",
       "</style>\n",
       "<table border=\"1\" class=\"dataframe\">\n",
       "  <thead>\n",
       "    <tr style=\"text-align: right;\">\n",
       "      <th></th>\n",
       "      <th>Review_Date</th>\n",
       "      <th>Review</th>\n",
       "      <th>sentiment</th>\n",
       "    </tr>\n",
       "  </thead>\n",
       "  <tbody>\n",
       "    <tr>\n",
       "      <th>0</th>\n",
       "      <td>2022-07-23</td>\n",
       "      <td>Bad script, bad acting, stupid story, a new di...</td>\n",
       "      <td>negative</td>\n",
       "    </tr>\n",
       "    <tr>\n",
       "      <th>1</th>\n",
       "      <td>2022-06-05</td>\n",
       "      <td>This movie consists mostly of us watching prev...</td>\n",
       "      <td>positive</td>\n",
       "    </tr>\n",
       "    <tr>\n",
       "      <th>2</th>\n",
       "      <td>2022-06-10</td>\n",
       "      <td>If I were to list out all the things this movi...</td>\n",
       "      <td>positive</td>\n",
       "    </tr>\n",
       "    <tr>\n",
       "      <th>3</th>\n",
       "      <td>2022-06-23</td>\n",
       "      <td>Before I went to this film (because my Grandso...</td>\n",
       "      <td>positive</td>\n",
       "    </tr>\n",
       "    <tr>\n",
       "      <th>4</th>\n",
       "      <td>2022-06-16</td>\n",
       "      <td>-Dinousaurs that only survived in warm climate...</td>\n",
       "      <td>positive</td>\n",
       "    </tr>\n",
       "    <tr>\n",
       "      <th>...</th>\n",
       "      <td>...</td>\n",
       "      <td>...</td>\n",
       "      <td>...</td>\n",
       "    </tr>\n",
       "    <tr>\n",
       "      <th>9047</th>\n",
       "      <td>2022-06-15</td>\n",
       "      <td>Starts out slow. Too much talking. Once the di...</td>\n",
       "      <td>positive</td>\n",
       "    </tr>\n",
       "    <tr>\n",
       "      <th>9048</th>\n",
       "      <td>2022-06-15</td>\n",
       "      <td>Dinosaurs were cool but the story was a bit la...</td>\n",
       "      <td>negative</td>\n",
       "    </tr>\n",
       "    <tr>\n",
       "      <th>9049</th>\n",
       "      <td>2022-06-15</td>\n",
       "      <td>While it was a big budget spectacle, the overw...</td>\n",
       "      <td>negative</td>\n",
       "    </tr>\n",
       "    <tr>\n",
       "      <th>9050</th>\n",
       "      <td>2022-06-15</td>\n",
       "      <td>Great storyline and cinematography.  Love the ...</td>\n",
       "      <td>positive</td>\n",
       "    </tr>\n",
       "    <tr>\n",
       "      <th>9051</th>\n",
       "      <td>2022-06-15</td>\n",
       "      <td>Wasn’t the best. On par with Jurassic Park 3</td>\n",
       "      <td>positive</td>\n",
       "    </tr>\n",
       "  </tbody>\n",
       "</table>\n",
       "<p>9052 rows × 3 columns</p>\n",
       "</div>"
      ],
      "text/plain": [
       "     Review_Date                                             Review sentiment\n",
       "0     2022-07-23  Bad script, bad acting, stupid story, a new di...  negative\n",
       "1     2022-06-05  This movie consists mostly of us watching prev...  positive\n",
       "2     2022-06-10  If I were to list out all the things this movi...  positive\n",
       "3     2022-06-23  Before I went to this film (because my Grandso...  positive\n",
       "4     2022-06-16  -Dinousaurs that only survived in warm climate...  positive\n",
       "...          ...                                                ...       ...\n",
       "9047  2022-06-15  Starts out slow. Too much talking. Once the di...  positive\n",
       "9048  2022-06-15  Dinosaurs were cool but the story was a bit la...  negative\n",
       "9049  2022-06-15  While it was a big budget spectacle, the overw...  negative\n",
       "9050  2022-06-15  Great storyline and cinematography.  Love the ...  positive\n",
       "9051  2022-06-15       Wasn’t the best. On par with Jurassic Park 3  positive\n",
       "\n",
       "[9052 rows x 3 columns]"
      ]
     },
     "execution_count": 92,
     "metadata": {},
     "output_type": "execute_result"
    }
   ],
   "source": [
    "df_reviews"
   ]
  },
  {
   "cell_type": "code",
   "execution_count": 232,
   "id": "e88fbf42",
   "metadata": {},
   "outputs": [
    {
     "name": "stdout",
     "output_type": "stream",
     "text": [
      "Labels in the dataset:  ['positive', 'negative', 'neutral']\n",
      "positive    5863\n",
      "negative    2499\n",
      "neutral      689\n",
      "Name: sentiment, dtype: int64\n"
     ]
    },
    {
     "data": {
      "image/png": "[encoded data removed]",
      "text/plain": [
       "<Figure size 500x500 with 1 Axes>"
      ]
     },
     "metadata": {},
     "output_type": "display_data"
    }
   ],
   "source": [
    "pie_chart(df_reviews)\n",
    "plt.show()"
   ]
  },
  {
   "cell_type": "code",
   "execution_count": 119,
   "id": "b8a9810e",
   "metadata": {},
   "outputs": [],
   "source": [
    "df_reviews[['sentiment']].to_csv('review_sentiment.csv')"
   ]
  },
  {
   "cell_type": "code",
   "execution_count": 113,
   "id": "699d4237",
   "metadata": {},
   "outputs": [],
   "source": [
    "df_reviews.to_csv('df_reviews.csv')"
   ]
  }
 ],
 "metadata": {
  "kernelspec": {
   "display_name": "Python 3 (ipykernel)",
   "language": "python",
   "name": "python3"
  },
  "language_info": {
   "codemirror_mode": {
    "name": "ipython",
    "version": 3
   },
   "file_extension": ".py",
   "mimetype": "text/x-python",
   "name": "python",
   "nbconvert_exporter": "python",
   "pygments_lexer": "ipython3",
   "version": "3.9.13"
  }
 },
 "nbformat": 4,
 "nbformat_minor": 5
}
